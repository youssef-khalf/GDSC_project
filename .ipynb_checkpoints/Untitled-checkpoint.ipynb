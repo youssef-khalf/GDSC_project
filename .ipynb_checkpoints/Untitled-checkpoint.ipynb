{
 "cells": [
  {
   "cell_type": "code",
   "execution_count": 31,
   "id": "611d0ec7",
   "metadata": {},
   "outputs": [],
   "source": [
    "import os \n",
    "#dataset path\n",
    "DIRECTORY = r\"C:/Users/lenovo/Desktop/Siar-dataset\"\n",
    "CATEGORIES = [\"Normal\", \"Tumor\"]\n",
    "from keras.preprocessing.image import load_img, img_to_array\n",
    "from tensorflow.keras.applications.mobilenet_v2 import preprocess_input\n",
    "import cv2\n",
    "#load dataset(two classes imgs)\n",
    "data = []\n",
    "labels = []\n",
    "for category in CATEGORIES:\n",
    "    path = os.path.join(DIRECTORY, category)\n",
    "    for img in os.listdir(path):\n",
    "        img_path = os.path.join(path, img)\n",
    "        \n",
    "        try:\n",
    "            image = load_img(img_path, target_size=(500, 500))\n",
    "            image = img_to_array(image)\n",
    "            image = preprocess_input(image)\n",
    "            data.append(image)\n",
    "            labels.append(category)\n",
    "        except Exception as e:\n",
    "            print(f\"Error processing {img_path}: {e}\")"
   ]
  },
  {
   "cell_type": "code",
   "execution_count": 33,
   "id": "6532a059",
   "metadata": {},
   "outputs": [],
   "source": [
    "import os\n",
    "import cv2\n",
    "import numpy as np\n",
    "\n",
    "# Your existing code for loading the dataset...\n",
    "\n",
    "# Index of the image you want to display (replace with the desired index)\n",
    "image_index = 5001\n",
    "\n",
    "# Check if the index is valid\n",
    "if 0 <= image_index < len(data):\n",
    "    # Get the image and label\n",
    "    image = data[image_index]\n",
    "    label = labels[image_index]\n",
    "\n",
    "    # Display the image using OpenCV\n",
    "    cv2.imshow(f\"Image - {label}\", cv2.cvtColor(image, cv2.COLOR_BGR2RGB))  # Convert to RGB\n",
    "    cv2.waitKey(0)  # Wait for a key press to close the window\n",
    "    cv2.destroyAllWindows()  # Close the window\n",
    "\n",
    "else:\n",
    "    print(f\"Invalid image index: {image_index}\")"
   ]
  },
  {
   "cell_type": "code",
   "execution_count": null,
   "id": "446f4e10",
   "metadata": {},
   "outputs": [],
   "source": []
  }
 ],
 "metadata": {
  "kernelspec": {
   "display_name": "Python 3 (ipykernel)",
   "language": "python",
   "name": "python3"
  },
  "language_info": {
   "codemirror_mode": {
    "name": "ipython",
    "version": 3
   },
   "file_extension": ".py",
   "mimetype": "text/x-python",
   "name": "python",
   "nbconvert_exporter": "python",
   "pygments_lexer": "ipython3",
   "version": "3.11.3"
  }
 },
 "nbformat": 4,
 "nbformat_minor": 5
}
